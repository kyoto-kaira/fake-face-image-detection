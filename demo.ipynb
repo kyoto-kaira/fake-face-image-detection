{
 "cells": [
  {
   "cell_type": "code",
   "execution_count": null,
   "metadata": {},
   "outputs": [],
   "source": [
    "import timm\n",
    "import cv2\n",
    "import torch\n",
    "import torch.nn as nn\n",
    "import matplotlib.pyplot as plt\n",
    "\n",
    "device = 'cuda' if torch.cuda.is_available() else 'cpu'\n",
    "print('device:', device)"
   ]
  },
  {
   "cell_type": "code",
   "execution_count": null,
   "metadata": {},
   "outputs": [],
   "source": [
    "class Classifier(nn.Module):\n",
    "    def __init__(self, name, *, pretrained=False, in_chans=3):\n",
    "        super().__init__()\n",
    "        model = timm.create_model(name, pretrained=pretrained, in_chans=in_chans)\n",
    "        clsf = model.default_cfg['classifier']\n",
    "        n_features = model._modules[clsf].in_features\n",
    "        model._modules[clsf] = nn.Identity()\n",
    "        \n",
    "        self.fc = nn.Linear(n_features, 1)\n",
    "        self.model = model\n",
    "    \n",
    "    def forward(self, x):\n",
    "        x = self.model(x)\n",
    "        logits = self.fc(x)\n",
    "        return logits"
   ]
  },
  {
   "cell_type": "code",
   "execution_count": null,
   "metadata": {},
   "outputs": [],
   "source": [
    "model = Classifier('tf-efficientnetv2_s', pretrained=False)\n",
    "model.to(device)\n",
    "model.load_state_dict(torch.load('./efficientnetv2_s.pth', map_location=device)['model'])\n",
    "\n",
    "def inference(img_path, model):\n",
    "    model.eval()\n",
    "    img = cv2.imread(img_path)\n",
    "    img = cv2.resize(img, (256, 256), interpolation =cv2.INTER_LINEAR) / 255\n",
    "    img = torch.tensor(img, dtype=torch.float32).to(device).reshape([-1, 3, 256, 256])\n",
    "    pred = model(img).squeeze().sigmoid().detach().cpu().numpy()\n",
    "    print(pred)"
   ]
  },
  {
   "cell_type": "code",
   "execution_count": null,
   "metadata": {},
   "outputs": [],
   "source": [
    "path = './samples/avatar-1122482d4efbd3f44e4c99e93b36d42d.jpg'\n",
    "inference(path, model)\n",
    "img = cv2.imread(path)\n",
    "img = cv2.cvtColor(img, cv2.COLOR_BGR2RGB)\n",
    "plt.imshow(img)"
   ]
  }
 ],
 "metadata": {
  "kernelspec": {
   "display_name": "base",
   "language": "python",
   "name": "python3"
  },
  "language_info": {
   "codemirror_mode": {
    "name": "ipython",
    "version": 3
   },
   "file_extension": ".py",
   "mimetype": "text/x-python",
   "name": "python",
   "nbconvert_exporter": "python",
   "pygments_lexer": "ipython3",
   "version": "3.10.13"
  }
 },
 "nbformat": 4,
 "nbformat_minor": 2
}
